{
  "cells": [
    {
      "cell_type": "markdown",
      "metadata": {
        "id": "view-in-github",
        "colab_type": "text"
      },
      "source": [
        "<a href=\"https://colab.research.google.com/github/NimishaSoni12/nimisha-python-collab-file/blob/main/Copy_of_nimisha_python.ipynb\" target=\"_parent\"><img src=\"https://colab.research.google.com/assets/colab-badge.svg\" alt=\"Open In Colab\"/></a>"
      ]
    },
    {
      "cell_type": "code",
      "execution_count": null,
      "metadata": {
        "colab": {
          "base_uri": "https://localhost:8080/"
        },
        "id": "8eqGdBW9Y7j9",
        "outputId": "42eab2a5-50ff-46fd-f0eb-47672947dd53"
      },
      "outputs": [
        {
          "name": "stdout",
          "output_type": "stream",
          "text": [
            "b is greater\n"
          ]
        }
      ],
      "source": [
        "a = 1\n",
        "b = 2\n",
        "if b>a:\n",
        "   print('b is greater')\n",
        "else:\n",
        "     print('a is greater')"
      ]
    },
    {
      "cell_type": "code",
      "execution_count": null,
      "metadata": {
        "colab": {
          "background_save": true
        },
        "id": "CuqCcIKKZiiG"
      },
      "outputs": [],
      "source": [
        ""
      ]
    },
    {
      "cell_type": "code",
      "execution_count": null,
      "metadata": {
        "colab": {
          "background_save": true,
          "base_uri": "https://localhost:8080/"
        },
        "id": "kkyNmLnrZmd5",
        "outputId": "dc77377d-e700-492d-8439-7292d21c0ccc"
      },
      "outputs": [
        {
          "name": "stdout",
          "output_type": "stream",
          "text": [
            "The largest number is 13\n"
          ]
        }
      ],
      "source": [
        "num1 = 3\n",
        "num2 = 13\n",
        "num3 = 10\n",
        "if (num1 >= num2) and (num1 >= num3):\n",
        "   largest = num1\n",
        "elif (num2 >= num1) and (num2 >= num3):\n",
        "   largest = num2\n",
        "else:\n",
        "   largest = num3\n",
        "\n",
        "print(\"The largest number is\", largest)"
      ]
    },
    {
      "cell_type": "code",
      "execution_count": null,
      "metadata": {
        "colab": {
          "background_save": true,
          "base_uri": "https://localhost:8080/"
        },
        "id": "Yj_GAJhIcryR",
        "outputId": "8639b6ec-926b-4ba2-f881-2ce49c4ae9db"
      },
      "outputs": [
        {
          "name": "stdout",
          "output_type": "stream",
          "text": [
            "The largest number is 100\n"
          ]
        }
      ],
      "source": [
        "num1 = 5\n",
        "num2 = 26\n",
        "num3 = 100\n",
        "if (num1 >= num2) and (num1 >= num3):\n",
        "   largest = num1\n",
        "elif (num2 >= num1) and (num2 >= num3):\n",
        "   largest = num2\n",
        "else:\n",
        "   largest = num3\n",
        "\n",
        "print(\"The largest number is\", largest)"
      ]
    },
    {
      "cell_type": "code",
      "execution_count": null,
      "metadata": {
        "colab": {
          "background_save": true,
          "base_uri": "https://localhost:8080/"
        },
        "id": "sw1LyyX0dEiS",
        "outputId": "0fa77bcb-214b-4de9-de04-27c3a39b704c"
      },
      "outputs": [
        {
          "name": "stdout",
          "output_type": "stream",
          "text": [
            "The largest number is 0.5\n"
          ]
        }
      ],
      "source": [
        "num1 = 0.5\n",
        "num2 = 0.20\n",
        "num3 = 0.25\n",
        "if (num1 >= num2) and (num1 >= num3):\n",
        "  largest = num1\n",
        "elif (num2 >= num1) and (num2 >= num3):\n",
        "   largest = num2\n",
        "else:\n",
        "   largest = num3\n",
        "\n",
        "print(\"The largest number is\", largest)"
      ]
    },
    {
      "cell_type": "code",
      "execution_count": null,
      "metadata": {
        "colab": {
          "background_save": true,
          "base_uri": "https://localhost:8080/"
        },
        "id": "KIbD0pr5hYWb",
        "outputId": "ef82a1be-0e6e-4478-f3e6-f5d0ef4e28e7"
      },
      "outputs": [
        {
          "name": "stdout",
          "output_type": "stream",
          "text": [
            "nimisha\n"
          ]
        }
      ],
      "source": [
        "s1=\"nimisha\" \n",
        "s2=\"zebar\"\n",
        "\n",
        "print(s1)"
      ]
    },
    {
      "cell_type": "code",
      "execution_count": null,
      "metadata": {
        "colab": {
          "background_save": true,
          "base_uri": "https://localhost:8080/"
        },
        "id": "ty5p9g73iBQc",
        "outputId": "51fdf9ba-bd29-403a-afa6-ccdb262f68a9"
      },
      "outputs": [
        {
          "name": "stdout",
          "output_type": "stream",
          "text": [
            "nimisha is not equal to zebar\n"
          ]
        }
      ],
      "source": [
        "if s1==s2:\n",
        " print(s1,\"is equal to\", s2)\n",
        "else:\n",
        " print(s1,\"is not equal to\", s2)\n"
      ]
    },
    {
      "cell_type": "code",
      "execution_count": null,
      "metadata": {
        "colab": {
          "background_save": true,
          "base_uri": "https://localhost:8080/"
        },
        "id": "n-D2q2MwmFP_",
        "outputId": "2e847736-d975-4eba-c000-223089956fac"
      },
      "outputs": [
        {
          "name": "stdout",
          "output_type": "stream",
          "text": [
            "b might be greater\n"
          ]
        }
      ],
      "source": [
        "a = 1\n",
        "b = 2\n",
        "c = 3\n",
        "if a>b or a>c:\n",
        " print('b might be greater')\n",
        "elif b>a or b>c:\n",
        "  print('b might be greater')\n",
        "elif c>a or c>b: \n",
        "  print('c might be greater')\n",
        " "
      ]
    },
    {
      "cell_type": "markdown",
      "metadata": {
        "id": "6uVkI-aheg7i"
      },
      "source": [
        "-list is a collection which is ordered and changeable. allows duplucate members. \n",
        "-tuple is a collection which is ordered and unchangeable. allows duplicate members.\n",
        "-set is a collectionb which is unoredered and unindexed. no suplicate members.\n",
        "-dictionary is a collection which is unordered, changeeable and indexed. no duplicate memebers. "
      ]
    },
    {
      "cell_type": "code",
      "execution_count": null,
      "metadata": {
        "colab": {
          "base_uri": "https://localhost:8080/"
        },
        "id": "M6DGqZ9gfasx",
        "outputId": "a8c7c021-e4b4-4f2b-b28d-74ac8110305b"
      },
      "outputs": [
        {
          "output_type": "stream",
          "name": "stdout",
          "text": [
            "apple\n"
          ]
        }
      ],
      "source": [
        "fruits = ['apple','mango','banana']\n",
        "\n",
        "print(fruits[0])\n"
      ]
    },
    {
      "cell_type": "code",
      "source": [
        "fruits[0] = 'cherry'\n",
        "print(fruits)"
      ],
      "metadata": {
        "colab": {
          "base_uri": "https://localhost:8080/"
        },
        "id": "wUExCmZLrugE",
        "outputId": "a8f08a1a-75eb-4714-935d-078939aefea8"
      },
      "execution_count": null,
      "outputs": [
        {
          "output_type": "stream",
          "name": "stdout",
          "text": [
            "['cherry', 'mango', 'cherry', 'kiwi', 'banana', 'kiwi']\n"
          ]
        }
      ]
    },
    {
      "cell_type": "code",
      "source": [
        "fruits.clear()\n",
        "print(fruits)"
      ],
      "metadata": {
        "colab": {
          "base_uri": "https://localhost:8080/"
        },
        "id": "W9DLpgGasDYl",
        "outputId": "86a22c9a-4841-480e-eba5-e487a2a1bc4a"
      },
      "execution_count": null,
      "outputs": [
        {
          "output_type": "stream",
          "name": "stdout",
          "text": [
            "[]\n"
          ]
        }
      ]
    },
    {
      "cell_type": "code",
      "source": [
        "fruits.append('kiwi')\n",
        "print(fruits)"
      ],
      "metadata": {
        "colab": {
          "base_uri": "https://localhost:8080/"
        },
        "id": "QYCc0UaosGlA",
        "outputId": "e9c5134b-b9f3-459a-d937-e9fb74037c24"
      },
      "execution_count": null,
      "outputs": [
        {
          "output_type": "stream",
          "name": "stdout",
          "text": [
            "['apple', 'mango', 'banana', 'kiwi']\n"
          ]
        }
      ]
    },
    {
      "cell_type": "code",
      "source": [
        "fruits.insert(2, 'cherry')\n",
        "print(fruits)"
      ],
      "metadata": {
        "colab": {
          "base_uri": "https://localhost:8080/"
        },
        "id": "lOovH4nasRhZ",
        "outputId": "459de1ce-41eb-47a4-8ef0-9f949822ceea"
      },
      "execution_count": null,
      "outputs": [
        {
          "output_type": "stream",
          "name": "stdout",
          "text": [
            "['apple', 'mango', 'cherry', 'banana', 'kiwi']\n"
          ]
        }
      ]
    },
    {
      "cell_type": "code",
      "source": [
        "print(fruits)"
      ],
      "metadata": {
        "colab": {
          "base_uri": "https://localhost:8080/"
        },
        "id": "m3YiGs0_sYgg",
        "outputId": "4d844c90-2307-468e-94e6-17eb5974d7fb"
      },
      "execution_count": null,
      "outputs": [
        {
          "output_type": "stream",
          "name": "stdout",
          "text": [
            "['apple', 'mango', 'cherry', 'banana', 'kiwi']\n"
          ]
        }
      ]
    },
    {
      "cell_type": "code",
      "source": [
        "if 'Apple' or 'apple' in fruits:\n",
        "  print('yes!')\n",
        "else:\n",
        "    print('no')"
      ],
      "metadata": {
        "colab": {
          "base_uri": "https://localhost:8080/"
        },
        "id": "q-EmUNq8sdM_",
        "outputId": "36f5c87f-ff5f-4e59-b5b0-a44f91362532"
      },
      "execution_count": null,
      "outputs": [
        {
          "output_type": "stream",
          "name": "stdout",
          "text": [
            "yes!\n"
          ]
        }
      ]
    },
    {
      "cell_type": "code",
      "source": [
        "flower = ['sunflower','lily','rose']\n",
        "print(flowers[0])\n",
        "print(flowers[1])\n",
        "print(flowers[2])"
      ],
      "metadata": {
        "colab": {
          "base_uri": "https://localhost:8080/"
        },
        "id": "zalQKInmsf2r",
        "outputId": "314d9d4a-04bb-4346-9dca-059b2368f6b4"
      },
      "execution_count": null,
      "outputs": [
        {
          "output_type": "stream",
          "name": "stdout",
          "text": [
            "sunflower\n",
            "rose\n",
            "lily\n"
          ]
        }
      ]
    },
    {
      "cell_type": "code",
      "source": [
        "flowers.index('lily')"
      ],
      "metadata": {
        "colab": {
          "base_uri": "https://localhost:8080/"
        },
        "id": "4JTnRuEwsm9s",
        "outputId": "d10daec9-360c-4f0b-c8b3-4c6e70c7e328"
      },
      "execution_count": null,
      "outputs": [
        {
          "output_type": "execute_result",
          "data": {
            "text/plain": [
              "2"
            ]
          },
          "metadata": {},
          "execution_count": 167
        }
      ]
    },
    {
      "cell_type": "code",
      "source": [
        "fruits = ['apple','cherry','banana','grapes']\n",
        "for y in fruits:\n",
        "  print(y)"
      ],
      "metadata": {
        "colab": {
          "base_uri": "https://localhost:8080/"
        },
        "id": "85QjTN1OstT-",
        "outputId": "085c25e2-5430-4b34-b99c-2316d9fef742"
      },
      "execution_count": null,
      "outputs": [
        {
          "output_type": "stream",
          "name": "stdout",
          "text": [
            "apple\n",
            "cherry\n",
            "banana\n",
            "grapes\n"
          ]
        }
      ]
    },
    {
      "cell_type": "code",
      "source": [
        "print(len(fruits))"
      ],
      "metadata": {
        "colab": {
          "base_uri": "https://localhost:8080/"
        },
        "id": "dvLHdjztszte",
        "outputId": "8b305280-9ce9-4555-eefb-437cda026a4f"
      },
      "execution_count": null,
      "outputs": [
        {
          "output_type": "stream",
          "name": "stdout",
          "text": [
            "4\n"
          ]
        }
      ]
    },
    {
      "cell_type": "code",
      "source": [
        "fruits = ['apple','cherry','banana','grapes']\n",
        "for name in fruits:\n",
        "  if fruits.index(name)>1:\n",
        "    print(name)"
      ],
      "metadata": {
        "colab": {
          "base_uri": "https://localhost:8080/"
        },
        "id": "yUkRTVgns4ke",
        "outputId": "8340f61c-076c-4704-f32c-cdd759284a1a"
      },
      "execution_count": null,
      "outputs": [
        {
          "output_type": "stream",
          "name": "stdout",
          "text": [
            "banana\n",
            "grapes\n"
          ]
        }
      ]
    },
    {
      "cell_type": "code",
      "source": [
        "for name in fruits:\n",
        "  if fruits.index(name)>2:\n",
        "    print(name)"
      ],
      "metadata": {
        "colab": {
          "base_uri": "https://localhost:8080/"
        },
        "id": "PruklMzytREU",
        "outputId": "60df8c9e-a0e4-444a-c8a2-f80004e54308"
      },
      "execution_count": null,
      "outputs": [
        {
          "output_type": "stream",
          "name": "stdout",
          "text": [
            "grapes\n"
          ]
        }
      ]
    },
    {
      "cell_type": "code",
      "source": [
        "for name in fruits:\n",
        "  if fruits.index(name)>0:\n",
        "    print(name)"
      ],
      "metadata": {
        "colab": {
          "base_uri": "https://localhost:8080/"
        },
        "id": "jWclN-fbt2PU",
        "outputId": "e8e03444-37b3-4c17-b437-662d273e72cb"
      },
      "execution_count": null,
      "outputs": [
        {
          "output_type": "stream",
          "name": "stdout",
          "text": [
            "cherry\n",
            "banana\n",
            "grapes\n"
          ]
        }
      ]
    },
    {
      "cell_type": "code",
      "source": [
        "fruits = ['apple','cherry','banana','grapes']\n",
        "for name in fruits:\n",
        " if name == 'cherry':\n",
        "  break\n",
        " print(name)"
      ],
      "metadata": {
        "colab": {
          "base_uri": "https://localhost:8080/"
        },
        "id": "-5O4u0tvwGQg",
        "outputId": "d6fd35f2-26ec-4154-8d32-7c946f422b0b"
      },
      "execution_count": null,
      "outputs": [
        {
          "output_type": "stream",
          "name": "stdout",
          "text": [
            "apple\n"
          ]
        }
      ]
    },
    {
      "cell_type": "code",
      "source": [
        "fruits = ['apple','cherry','banana','grapes']\n",
        "for name in fruits:\n",
        " if name == 'cherry':\n",
        "  continue\n",
        " print(name)"
      ],
      "metadata": {
        "colab": {
          "base_uri": "https://localhost:8080/"
        },
        "id": "HtnD7TR0xWn2",
        "outputId": "5dc24860-16ed-4642-827d-1a182b2e438e"
      },
      "execution_count": null,
      "outputs": [
        {
          "output_type": "stream",
          "name": "stdout",
          "text": [
            "apple\n",
            "banana\n",
            "grapes\n"
          ]
        }
      ]
    },
    {
      "cell_type": "code",
      "source": [
        "fruits = ['apple','cherry','banana','grapes']\n",
        "numbers = [0,1,2]\n",
        "\n",
        "for x in fruits:\n",
        " for y in numbers:\n",
        "  print(x,y)"
      ],
      "metadata": {
        "colab": {
          "base_uri": "https://localhost:8080/"
        },
        "id": "unLTpjatyVwa",
        "outputId": "129afd6e-0a75-4843-8b05-a6631864e350"
      },
      "execution_count": null,
      "outputs": [
        {
          "output_type": "stream",
          "name": "stdout",
          "text": [
            "apple 0\n",
            "apple 1\n",
            "apple 2\n",
            "cherry 0\n",
            "cherry 1\n",
            "cherry 2\n",
            "banana 0\n",
            "banana 1\n",
            "banana 2\n",
            "grapes 0\n",
            "grapes 1\n",
            "grapes 2\n"
          ]
        }
      ]
    },
    {
      "cell_type": "code",
      "source": [
        "n = 5\n",
        "\n",
        "for i in range(1, n+1):\n",
        "    # internal loop run for i times\n",
        "    for k in range(1, i+1):\n",
        "        print(\"*\", end=\"\")\n",
        "    print()"
      ],
      "metadata": {
        "id": "3m6WsVLV1Qqz",
        "colab": {
          "base_uri": "https://localhost:8080/"
        },
        "outputId": "f9bd85cd-13ef-4445-dab6-62fe9d97e089"
      },
      "execution_count": null,
      "outputs": [
        {
          "output_type": "stream",
          "name": "stdout",
          "text": [
            "*\n",
            "**\n",
            "***\n",
            "****\n",
            "*****\n"
          ]
        }
      ]
    },
    {
      "cell_type": "code",
      "source": [
        "n = 5\n",
        "for l in range(size):\n",
        "    for m in range(1, size - l):\n",
        "        print(\" \", end=\"\")\n",
        "    for n in range(0, l + 1):\n",
        "        print(\"*\", end=\"\")\n",
        "    print()"
      ],
      "metadata": {
        "colab": {
          "base_uri": "https://localhost:8080/"
        },
        "id": "O03IY3JXgHhA",
        "outputId": "2c315c35-01d7-4a3e-d91b-2be044ca17a0"
      },
      "execution_count": null,
      "outputs": [
        {
          "output_type": "stream",
          "name": "stdout",
          "text": [
            "    *\n",
            "   **\n",
            "  ***\n",
            " ****\n",
            "*****\n"
          ]
        }
      ]
    },
    {
      "cell_type": "code",
      "source": [
        "n = 5\n",
        "\n",
        "for i in range(n):\n",
        "    # internal loop run for n - i times\n",
        "    for j in range(n - i):\n",
        "        print('*', end='')\n",
        "    print()"
      ],
      "metadata": {
        "colab": {
          "base_uri": "https://localhost:8080/"
        },
        "id": "3R1qsy2AgVSH",
        "outputId": "8d4f9845-23ac-4d00-d92c-a746aafed973"
      },
      "execution_count": null,
      "outputs": [
        {
          "output_type": "stream",
          "name": "stdout",
          "text": [
            "*****\n",
            "****\n",
            "***\n",
            "**\n",
            "*\n"
          ]
        }
      ]
    },
    {
      "cell_type": "code",
      "source": [
        "n = 5 #pyramid star\n",
        "for i in range(n):\n",
        "    for j in range(n - i - 1):\n",
        "        print(' ', end='')\n",
        "    for k in range(2 * i + 1):\n",
        "        print('*', end='')\n",
        "    print()"
      ],
      "metadata": {
        "colab": {
          "base_uri": "https://localhost:8080/"
        },
        "id": "YHcHEwXqghi3",
        "outputId": "9f8d50b4-2fb3-4926-a560-b9e7274bb822"
      },
      "execution_count": null,
      "outputs": [
        {
          "output_type": "stream",
          "name": "stdout",
          "text": [
            "    *\n",
            "   ***\n",
            "  *****\n",
            " *******\n",
            "*********\n"
          ]
        }
      ]
    },
    {
      "cell_type": "code",
      "source": [
        "n = 5\n",
        "\n",
        "for i in range(n):\n",
        "    # printing spaces\n",
        "    for j in range(i):\n",
        "        print(' ', end='')\n",
        "    # printing stars\n",
        "    for j in range(2*(n-i)-1):\n",
        "        print('*', end='')\n",
        "    print()"
      ],
      "metadata": {
        "colab": {
          "base_uri": "https://localhost:8080/"
        },
        "id": "474TgNn0hFip",
        "outputId": "c5db6caf-25eb-436d-d647-b4355c34ff13"
      },
      "execution_count": null,
      "outputs": [
        {
          "output_type": "stream",
          "name": "stdout",
          "text": [
            "*********\n",
            " *******\n",
            "  *****\n",
            "   ***\n",
            "    *\n"
          ]
        }
      ]
    },
    {
      "cell_type": "code",
      "source": [
        "n = 5\n",
        "for i in range(size):\n",
        "    for j in range(i):\n",
        "        print(\" \", end=\"\")\n",
        "    for j in range(size, i, -1):\n",
        "        print(\"*\", end=\"\")\n",
        "    print()"
      ],
      "metadata": {
        "colab": {
          "base_uri": "https://localhost:8080/"
        },
        "id": "mz_1vBXchY7e",
        "outputId": "fc752290-0a69-428e-9077-3f73b4d67ca6"
      },
      "execution_count": null,
      "outputs": [
        {
          "output_type": "stream",
          "name": "stdout",
          "text": [
            "*****\n",
            " ****\n",
            "  ***\n",
            "   **\n",
            "    *\n"
          ]
        }
      ]
    },
    {
      "cell_type": "code",
      "source": [
        "for row in range(6):\n",
        "  for col in range(6):\n",
        "    if col==0 or col==5 or (row==col and (col>0 and col<5)):\n",
        "       print('*', end='')\n",
        "    else:\n",
        "         print(end=\" \")\n",
        "  print()\n"
      ],
      "metadata": {
        "colab": {
          "base_uri": "https://localhost:8080/"
        },
        "id": "2ZehBYZAyE17",
        "outputId": "dce82f84-9a48-43a9-a943-47c87e5aa804"
      },
      "execution_count": null,
      "outputs": [
        {
          "output_type": "stream",
          "name": "stdout",
          "text": [
            "*    *\n",
            "**   *\n",
            "* *  *\n",
            "*  * *\n",
            "*   **\n",
            "*    *\n"
          ]
        }
      ]
    },
    {
      "cell_type": "code",
      "source": [
        "for i in range(9):\n",
        "   for j in range(13):\n",
        "      if i==2 or i==6 or i+j==6 or j-i==6 or i-j==2 or i+j==14:\n",
        "          print(\"*\",end=\" \")\n",
        "      else:\n",
        "          print(\" \",end=\" \")\n",
        "   print()\n"
      ],
      "metadata": {
        "colab": {
          "base_uri": "https://localhost:8080/"
        },
        "id": "OfQmV27-yPIR",
        "outputId": "a3e3ba90-51a0-4539-fc66-b8505826f715"
      },
      "execution_count": null,
      "outputs": [
        {
          "output_type": "stream",
          "name": "stdout",
          "text": [
            "            *             \n",
            "          *   *           \n",
            "* * * * * * * * * * * * * \n",
            "  *   *           *   *   \n",
            "    *               *     \n",
            "  *   *           *   *   \n",
            "* * * * * * * * * * * * * \n",
            "          *   *           \n",
            "            *             \n"
          ]
        }
      ]
    },
    {
      "cell_type": "code",
      "source": [
        " s = 5\n",
        "for i in range(size):\n",
        "   for j in range(size):\n",
        "        if i == j or i + j == size - 1:\n",
        "            print(\"*\", end=\"\")\n",
        "        else:\n",
        "            print(\" \", end=\"\")\n",
        "    print()\n"
      ],
      "metadata": {
        "colab": {
          "base_uri": "https://localhost:8080/",
          "height": 131
        },
        "id": "utJhj5tHyTNh",
        "outputId": "bf1ea36e-31d9-4646-bc0d-0ff08941908e"
      },
      "execution_count": null,
      "outputs": [
        {
          "output_type": "error",
          "ename": "IndentationError",
          "evalue": "ignored",
          "traceback": [
            "\u001b[0;36m  File \u001b[0;32m\"<ipython-input-6-9aa3cd2e3188>\"\u001b[0;36m, line \u001b[0;32m8\u001b[0m\n\u001b[0;31m    print()\u001b[0m\n\u001b[0m           ^\u001b[0m\n\u001b[0;31mIndentationError\u001b[0m\u001b[0;31m:\u001b[0m unindent does not match any outer indentation level\n"
          ]
        }
      ]
    },
    {
      "cell_type": "code",
      "source": [
        "for i in range(0, 4):\n",
        "    for j in range(0, 4):\n",
        "        print(\"*\", end=\"\")\n",
        "    print()\n",
        "\n"
      ],
      "metadata": {
        "colab": {
          "base_uri": "https://localhost:8080/"
        },
        "id": "PmxCZN08yd8H",
        "outputId": "77f428f3-fc66-4000-d099-95db297beab3"
      },
      "execution_count": null,
      "outputs": [
        {
          "output_type": "stream",
          "name": "stdout",
          "text": [
            "****\n",
            "****\n",
            "****\n",
            "****\n"
          ]
        }
      ]
    },
    {
      "cell_type": "code",
      "source": [
        "fruits = ('aaple','mango','cherry')\n",
        "print(type(fruits))"
      ],
      "metadata": {
        "colab": {
          "base_uri": "https://localhost:8080/"
        },
        "id": "jjz4hFrdymZt",
        "outputId": "ab6d5e9c-e75e-4b29-ebfd-eba343689d89"
      },
      "execution_count": null,
      "outputs": [
        {
          "output_type": "stream",
          "name": "stdout",
          "text": [
            "<class 'tuple'>\n"
          ]
        }
      ]
    },
    {
      "cell_type": "code",
      "source": [
        "fruits.append('apple')\n",
        "print(fruits)"
      ],
      "metadata": {
        "colab": {
          "base_uri": "https://localhost:8080/",
          "height": 183
        },
        "id": "FiWm5tkt0qw1",
        "outputId": "17a2155d-2a5e-4127-dd56-b5908e96281e"
      },
      "execution_count": null,
      "outputs": [
        {
          "output_type": "error",
          "ename": "AttributeError",
          "evalue": "ignored",
          "traceback": [
            "\u001b[0;31m---------------------------------------------------------------------------\u001b[0m",
            "\u001b[0;31mAttributeError\u001b[0m                            Traceback (most recent call last)",
            "\u001b[0;32m<ipython-input-17-64f923c316ca>\u001b[0m in \u001b[0;36m<module>\u001b[0;34m()\u001b[0m\n\u001b[0;32m----> 1\u001b[0;31m \u001b[0mfruits\u001b[0m\u001b[0;34m.\u001b[0m\u001b[0mappend\u001b[0m\u001b[0;34m(\u001b[0m\u001b[0;34m'apple'\u001b[0m\u001b[0;34m)\u001b[0m\u001b[0;34m\u001b[0m\u001b[0;34m\u001b[0m\u001b[0m\n\u001b[0m\u001b[1;32m      2\u001b[0m \u001b[0mprint\u001b[0m\u001b[0;34m(\u001b[0m\u001b[0mfruits\u001b[0m\u001b[0;34m)\u001b[0m\u001b[0;34m\u001b[0m\u001b[0;34m\u001b[0m\u001b[0m\n",
            "\u001b[0;31mAttributeError\u001b[0m: 'tuple' object has no attribute 'append'"
          ]
        }
      ]
    },
    {
      "cell_type": "code",
      "source": [
        "print(fruits[1])"
      ],
      "metadata": {
        "colab": {
          "base_uri": "https://localhost:8080/"
        },
        "id": "ObAfhngGyw2E",
        "outputId": "3b902ba7-c2eb-44df-8b29-84a9e7aef8f8"
      },
      "execution_count": null,
      "outputs": [
        {
          "output_type": "stream",
          "name": "stdout",
          "text": [
            "mango\n"
          ]
        }
      ]
    },
    {
      "cell_type": "code",
      "source": [
        "n = (9, 11, 22, 45, 67, 89, 15, 25, 19)\n",
        "print(n)"
      ],
      "metadata": {
        "colab": {
          "base_uri": "https://localhost:8080/"
        },
        "id": "Q6EzjF4Ey1tR",
        "outputId": "64fc5cb7-d740-4ec9-e398-e886fb2a48a3"
      },
      "execution_count": null,
      "outputs": [
        {
          "output_type": "stream",
          "name": "stdout",
          "text": [
            "(9, 11, 22, 45, 67, 89, 15, 25, 19)\n"
          ]
        }
      ]
    },
    {
      "cell_type": "code",
      "source": [
        "tupple = 5, 10, 15, 20, 25\n",
        "print(tupple)"
      ],
      "metadata": {
        "id": "HE4E3vF-05Kj"
      },
      "execution_count": null,
      "outputs": []
    },
    {
      "cell_type": "code",
      "source": [
        "x = (1, 2, 3, 4, 5, 6)\n",
        "print(x)\n",
        "del x"
      ],
      "metadata": {
        "colab": {
          "base_uri": "https://localhost:8080/"
        },
        "id": "lo8SexP01ZV6",
        "outputId": "e4a73a53-6eac-4d2d-9ce9-0a758d3ea7ec"
      },
      "execution_count": null,
      "outputs": [
        {
          "output_type": "stream",
          "name": "stdout",
          "text": [
            "(1, 2, 3, 4, 5, 6)\n"
          ]
        }
      ]
    },
    {
      "cell_type": "code",
      "source": [
        "x = (10, 20, 30, 40, 50)\n",
        "print(x)\n"
      ],
      "metadata": {
        "id": "uXeW8cbV2op4",
        "outputId": "7f194abb-dfa5-4d28-c66f-5f4a2ea14330",
        "colab": {
          "base_uri": "https://localhost:8080/"
        }
      },
      "execution_count": null,
      "outputs": [
        {
          "output_type": "stream",
          "name": "stdout",
          "text": [
            "(10, 20, 30, 40, 50)\n"
          ]
        }
      ]
    },
    {
      "cell_type": "code",
      "source": [
        "fruits = ['Kiwi', 'Banana', 'Apple', 'Orange']\n",
        "y = tuple(fruits)\n",
        "print(y)"
      ],
      "metadata": {
        "id": "1aTFFxCs3GlS",
        "outputId": "b259059f-93fc-4756-fb89-d6f55a600b82",
        "colab": {
          "base_uri": "https://localhost:8080/"
        }
      },
      "execution_count": null,
      "outputs": [
        {
          "output_type": "stream",
          "name": "stdout",
          "text": [
            "('Kiwi', 'Banana', 'Apple', 'Orange')\n"
          ]
        }
      ]
    },
    {
      "cell_type": "code",
      "source": [
        "n1 = input(\" Please Enter the First Number: \")\n",
        "n2 = "
      ],
      "metadata": {
        "id": "x56iZbck3NjM",
        "outputId": "27d66176-a6dd-4763-d040-33f9081acd75",
        "colab": {
          "base_uri": "https://localhost:8080/"
        }
      },
      "execution_count": null,
      "outputs": [
        {
          "name": "stdout",
          "output_type": "stream",
          "text": [
            " Please Enter the First Number: 25\n"
          ]
        }
      ]
    },
    {
      "cell_type": "code",
      "source": [
        "flower = {'lily','rose',\"sunflower\",'jasmine',\"orchid\"}\n",
        "print(flower)"
      ],
      "metadata": {
        "id": "U7zRTveD3vJL",
        "outputId": "4568b302-4aef-4631-af54-65e7131878f9",
        "colab": {
          "base_uri": "https://localhost:8080/"
        }
      },
      "execution_count": null,
      "outputs": [
        {
          "output_type": "stream",
          "name": "stdout",
          "text": [
            "{'lily', 'jasmine', 'sunflower', 'orchid', 'rose'}\n"
          ]
        }
      ]
    },
    {
      "cell_type": "code",
      "source": [
        "for x in flower:\n",
        "  print(x)"
      ],
      "metadata": {
        "id": "kabgVxqf4LWR",
        "outputId": "f10e0e1a-2bc1-4224-bf41-dedf8fbb7127",
        "colab": {
          "base_uri": "https://localhost:8080/"
        }
      },
      "execution_count": null,
      "outputs": [
        {
          "output_type": "stream",
          "name": "stdout",
          "text": [
            "lily\n",
            "jasmine\n",
            "sunflower\n",
            "orchid\n",
            "rose\n"
          ]
        }
      ]
    },
    {
      "cell_type": "code",
      "source": [
        "flower.add('lotus')\n",
        "print(flower)"
      ],
      "metadata": {
        "id": "Epm-KfnW4RdZ",
        "outputId": "33158ce0-ecf5-4c66-c920-290416dc7d79",
        "colab": {
          "base_uri": "https://localhost:8080/"
        }
      },
      "execution_count": null,
      "outputs": [
        {
          "output_type": "stream",
          "name": "stdout",
          "text": [
            "{'lily', 'jasmine', 'sunflower', 'orchid', 'lotus', 'rose'}\n"
          ]
        }
      ]
    },
    {
      "cell_type": "code",
      "source": [
        "flower.update(['tulip'])\n",
        "print(flower)"
      ],
      "metadata": {
        "id": "f4qMDda54kqp",
        "outputId": "a7145264-45ac-4e0b-f788-5e3544a0ca21",
        "colab": {
          "base_uri": "https://localhost:8080/"
        }
      },
      "execution_count": null,
      "outputs": [
        {
          "output_type": "stream",
          "name": "stdout",
          "text": [
            "{'jasmine', 'sunflower', 'tulip', 'orchid', 'rose'}\n"
          ]
        }
      ]
    },
    {
      "cell_type": "code",
      "source": [
        "flower.pop()\n",
        "print(flower)"
      ],
      "metadata": {
        "id": "drQf_RkH5MGR",
        "outputId": "1b99d2a2-ea4c-4343-a08a-ec0f5c1068ec",
        "colab": {
          "base_uri": "https://localhost:8080/"
        }
      },
      "execution_count": null,
      "outputs": [
        {
          "output_type": "stream",
          "name": "stdout",
          "text": [
            "{'sunflower'}\n"
          ]
        }
      ]
    },
    {
      "cell_type": "code",
      "source": [
        "flower.discard('lotus')\n",
        "print(flower)"
      ],
      "metadata": {
        "id": "hy5t2Esc6sxg",
        "outputId": "fbb52143-bfb9-4b6f-b7b1-5ea05fe9e647",
        "colab": {
          "base_uri": "https://localhost:8080/"
        }
      },
      "execution_count": null,
      "outputs": [
        {
          "output_type": "stream",
          "name": "stdout",
          "text": [
            "{'jasmine', 'sunflower'}\n"
          ]
        }
      ]
    },
    {
      "cell_type": "code",
      "source": [
        "flower = {'lily','rose',\"sunflower\",'jasmine',\"orchid\"}\n",
        "print(flower)"
      ],
      "metadata": {
        "id": "h8Eyprzd7rSD",
        "outputId": "314fe6fa-1b34-4cf2-f5b1-feafa495358d",
        "colab": {
          "base_uri": "https://localhost:8080/"
        }
      },
      "execution_count": null,
      "outputs": [
        {
          "output_type": "stream",
          "name": "stdout",
          "text": [
            "{'lily', 'jasmine', 'sunflower', 'orchid', 'rose'}\n"
          ]
        }
      ]
    },
    {
      "cell_type": "code",
      "source": [
        "flower.discard('lily')\n",
        "print(flower)"
      ],
      "metadata": {
        "id": "tnzF9OWP8THf",
        "outputId": "17d01c51-df12-4e72-b7f4-40c7f6166b24",
        "colab": {
          "base_uri": "https://localhost:8080/"
        }
      },
      "execution_count": null,
      "outputs": [
        {
          "output_type": "stream",
          "name": "stdout",
          "text": [
            "{'jasmine', 'sunflower', 'orchid', 'rose'}\n"
          ]
        }
      ]
    },
    {
      "cell_type": "markdown",
      "source": [
        "#even if i insert anything in discard then there's a benefit that it will not get removed"
      ],
      "metadata": {
        "id": "i7KdO7Mp8zPK"
      }
    },
    {
      "cell_type": "code",
      "source": [
        "#dic\n",
        "\n",
        "car = {\n",
        "    'model' : 'mustang',\n",
        "    'colour' : 'red',\n",
        "    'year' : 2022\n",
        "}\n",
        "print(type(car))"
      ],
      "metadata": {
        "id": "hjDv_SSx9EOM",
        "outputId": "1d62e8f2-417e-4659-fa0f-24e3cdab1870",
        "colab": {
          "base_uri": "https://localhost:8080/"
        }
      },
      "execution_count": null,
      "outputs": [
        {
          "output_type": "stream",
          "name": "stdout",
          "text": [
            "<class 'dict'>\n"
          ]
        }
      ]
    },
    {
      "cell_type": "code",
      "source": [
        "car = {\n",
        "    'model' : 'mustang',\n",
        "    'colour' : ['red','yellow'],\n",
        "    'year' : 2022\n",
        "}\n",
        "print(car)\n",
        "print(type(car))"
      ],
      "metadata": {
        "id": "sM22S5Bs9dgU",
        "outputId": "dcea65ab-8936-4526-f98c-8553ec91297e",
        "colab": {
          "base_uri": "https://localhost:8080/"
        }
      },
      "execution_count": null,
      "outputs": [
        {
          "output_type": "stream",
          "name": "stdout",
          "text": [
            "{'model': 'mustang', 'colour': ['red', 'yellow'], 'year': 2022}\n",
            "<class 'dict'>\n"
          ]
        }
      ]
    },
    {
      "cell_type": "code",
      "source": [
        "print(car['model'])"
      ],
      "metadata": {
        "id": "DfIyW_OF9vbl",
        "outputId": "2bc967fa-758f-488c-c8a8-b378d7132669",
        "colab": {
          "base_uri": "https://localhost:8080/"
        }
      },
      "execution_count": null,
      "outputs": [
        {
          "output_type": "stream",
          "name": "stdout",
          "text": [
            "mustang\n"
          ]
        }
      ]
    },
    {
      "cell_type": "code",
      "source": [
        " for x in car:\n",
        "   print(x,car[x])"
      ],
      "metadata": {
        "id": "SABDgcnc-cwV",
        "outputId": "e63413db-4328-417f-f622-7fa0dffcfd08",
        "colab": {
          "base_uri": "https://localhost:8080/"
        }
      },
      "execution_count": null,
      "outputs": [
        {
          "output_type": "stream",
          "name": "stdout",
          "text": [
            "model mustang\n",
            "colour red\n",
            "year 2022\n"
          ]
        }
      ]
    },
    {
      "cell_type": "code",
      "source": [
        "car.update({'engine': 'v8'})\n",
        "print(car)"
      ],
      "metadata": {
        "id": "emkSp_FX-nnT",
        "outputId": "0c3323d5-1bd9-41d5-c648-c5087ed23533",
        "colab": {
          "base_uri": "https://localhost:8080/"
        }
      },
      "execution_count": null,
      "outputs": [
        {
          "output_type": "stream",
          "name": "stdout",
          "text": [
            "{'model': 'mustang', 'colour': 'red', 'year': 2022, 'engine': 'v8'}\n"
          ]
        }
      ]
    },
    {
      "cell_type": "code",
      "source": [
        "print(car['colour'])\n",
        "print(car['colour'][0])"
      ],
      "metadata": {
        "id": "nCeyElTRCe5y",
        "outputId": "45eb8ee8-f4af-46f3-fc12-cff69f340f8d",
        "colab": {
          "base_uri": "https://localhost:8080/"
        }
      },
      "execution_count": null,
      "outputs": [
        {
          "output_type": "stream",
          "name": "stdout",
          "text": [
            "['red', 'yellow']\n",
            "red\n"
          ]
        }
      ]
    },
    {
      "cell_type": "code",
      "source": [
        "ex = {\n",
        "    \"name\" : \"Nimisha\",\n",
        "    \"age\" : 15,\n",
        "    \"gender\" : \"FEMALE\",\n",
        "    \"city\": \"Ahmedabad\"\n",
        "}\n",
        "print(ex)"
      ],
      "metadata": {
        "id": "SfGLKIGm_3pj",
        "outputId": "fbb024b9-ba09-4b8e-c851-f912a8e99f4d",
        "colab": {
          "base_uri": "https://localhost:8080/"
        }
      },
      "execution_count": null,
      "outputs": [
        {
          "output_type": "stream",
          "name": "stdout",
          "text": [
            "{'name': 'Nimisha', 'age': 15, 'gender': 'FEMALE', 'city': 'Ahmedabad'}\n"
          ]
        }
      ]
    },
    {
      "cell_type": "code",
      "source": [
        "print(ex[\"name\"])"
      ],
      "metadata": {
        "id": "OFmwwBrABzko",
        "outputId": "62e0dc5a-45bd-41d8-e891-7cf25e406049",
        "colab": {
          "base_uri": "https://localhost:8080/"
        }
      },
      "execution_count": null,
      "outputs": [
        {
          "output_type": "stream",
          "name": "stdout",
          "text": [
            "Nimisha\n"
          ]
        }
      ]
    },
    {
      "cell_type": "code",
      "source": [
        "data={\n",
        "    \"Smiley\" : \":)\",\n",
        "    \"Sad\" : \":(\"\n",
        "}\n",
        "print(data['Sad'])\n",
        "a=input(\"Enter Emojie You Want (First Letter Must Be Capital): \")\n",
        "print(data[a])"
      ],
      "metadata": {
        "id": "WiV5wHq1E_8i",
        "outputId": "7c889988-ed54-4258-c9fa-e92d1da70acb",
        "colab": {
          "base_uri": "https://localhost:8080/"
        }
      },
      "execution_count": null,
      "outputs": [
        {
          "output_type": "stream",
          "name": "stdout",
          "text": [
            ":(\n",
            "Enter Emojie You Want (First Letter Must Be Capital): Sad\n",
            ":(\n"
          ]
        }
      ]
    },
    {
      "cell_type": "code",
      "source": [
        "data={\n",
        "    \"Smiley\" : \":)\",\n",
        "    \"Sad\" : \":(\"\n",
        "}\n",
        "print(data['Smiley'])\n",
        "a=input(\"Enter Emojie You Want (First Letter Must Be Capital): \")\n",
        "print(data[a])"
      ],
      "metadata": {
        "colab": {
          "base_uri": "https://localhost:8080/"
        },
        "id": "qfV6HBRF8pa-",
        "outputId": "82629633-3b7c-49ae-f306-ff8f60d4c852"
      },
      "execution_count": null,
      "outputs": [
        {
          "output_type": "stream",
          "name": "stdout",
          "text": [
            ":)\n",
            "Enter Emojie You Want (First Letter Must Be Capital): Smiley\n",
            ":)\n"
          ]
        }
      ]
    },
    {
      "cell_type": "code",
      "source": [
        "data={\n",
        "    \"Crying\" : \":=(\",\n",
        "    \"Surprise\" : \":-0\"\n",
        "}\n",
        "print(data['Crying'])\n",
        "a=input(\"Enter Emojie You Want (First Letter Must Be Capital): \")\n",
        "print(data[a])"
      ],
      "metadata": {
        "colab": {
          "base_uri": "https://localhost:8080/"
        },
        "id": "tRcm-6OzLmPq",
        "outputId": "0d658aac-6617-4e00-fe90-254b6fc64e85"
      },
      "execution_count": null,
      "outputs": [
        {
          "output_type": "stream",
          "name": "stdout",
          "text": [
            ":=(\n",
            "Enter Emojie You Want (First Letter Must Be Capital): Crying\n",
            ":=(\n"
          ]
        }
      ]
    },
    {
      "cell_type": "code",
      "source": [
        "data={\n",
        "    \"Surprise\" : \":-0\",\n",
        "    \"Laughing\" : \"=D\"\n",
        "}\n",
        "print(data['Surprise'])\n",
        "a=input(\"Enter Emojie You Want (First Letter Must Be Capital): \")\n",
        "print(data[a])"
      ],
      "metadata": {
        "colab": {
          "base_uri": "https://localhost:8080/"
        },
        "id": "nh_JoH_zQK1S",
        "outputId": "a4b61868-8ab5-4de9-868f-4af67b49c3ed"
      },
      "execution_count": null,
      "outputs": [
        {
          "output_type": "stream",
          "name": "stdout",
          "text": [
            ":-0\n",
            "Enter Emojie You Want (First Letter Must Be Capital): Surprise\n",
            ":-0\n"
          ]
        }
      ]
    },
    {
      "cell_type": "code",
      "source": [
        "print"
      ],
      "metadata": {
        "id": "uOK9rST0Ogft"
      },
      "execution_count": null,
      "outputs": []
    }
  ],
  "metadata": {
    "colab": {
      "collapsed_sections": [],
      "name": "Copy of nimisha python",
      "provenance": [],
      "authorship_tag": "ABX9TyMyBYaE0ILPdAUu0UIoblNA",
      "include_colab_link": true
    },
    "kernelspec": {
      "display_name": "Python 3",
      "name": "python3"
    },
    "language_info": {
      "name": "python"
    }
  },
  "nbformat": 4,
  "nbformat_minor": 0
}